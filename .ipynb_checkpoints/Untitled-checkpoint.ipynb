{
 "cells": [
  {
   "cell_type": "code",
   "execution_count": 3,
   "id": "08428dac",
   "metadata": {},
   "outputs": [],
   "source": [
    "li = ['1.9 mm',\n",
    "'2.1 mm',\n",
    "'3 mm',\n",
    "'3.2 mm',\n",
    "'3.3 mm',\n",
    "'4 mm',\n",
    "'4.6 mm',\n",
    "'5.2 mm',\n",
    "'5.5 mm',\n",
    "'7.5 mm',\n",
    "'9 mm',\n",
    "'9.75 mm',\n",
    "'11 mm',\n",
    "'12 mm',\n",
    "'15 mm',\n",
    "'16 mm',\n",
    "'16.75 mm',\n",
    "'17 mm',\n",
    "'18 mm',\n",
    "'25 mm',\n",
    "'8 mm',\n",
    "'4.2 mm',\n",
    "'16.5 mm']"
   ]
  },
  {
   "cell_type": "code",
   "execution_count": 6,
   "id": "34bddd8d",
   "metadata": {},
   "outputs": [
    {
     "ename": "AttributeError",
     "evalue": "module 'math' has no attribute 'randn'",
     "output_type": "error",
     "traceback": [
      "\u001b[0;31m---------------------------------------------------------------------------\u001b[0m",
      "\u001b[0;31mAttributeError\u001b[0m                            Traceback (most recent call last)",
      "Cell \u001b[0;32mIn[6], line 2\u001b[0m\n\u001b[1;32m      1\u001b[0m \u001b[38;5;28;01mimport\u001b[39;00m \u001b[38;5;21;01mmath\u001b[39;00m\n\u001b[0;32m----> 2\u001b[0m \u001b[43mmath\u001b[49m\u001b[38;5;241;43m.\u001b[39;49m\u001b[43mrandn\u001b[49m()\n",
      "\u001b[0;31mAttributeError\u001b[0m: module 'math' has no attribute 'randn'"
     ]
    }
   ],
   "source": [
    "import math\n",
    "math."
   ]
  },
  {
   "cell_type": "code",
   "execution_count": 4,
   "id": "8f681231",
   "metadata": {},
   "outputs": [
    {
     "data": {
      "text/plain": [
       "['1.9 mm',\n",
       " '2.1 mm',\n",
       " '3 mm',\n",
       " '3.2 mm',\n",
       " '3.3 mm',\n",
       " '4 mm',\n",
       " '4.6 mm',\n",
       " '5.2 mm',\n",
       " '5.5 mm',\n",
       " '7.5 mm',\n",
       " '9 mm',\n",
       " '9.75 mm',\n",
       " '11 mm',\n",
       " '12 mm',\n",
       " '15 mm',\n",
       " '16 mm',\n",
       " '16.75 mm',\n",
       " '17 mm',\n",
       " '18 mm',\n",
       " '25 mm',\n",
       " '8 mm',\n",
       " '4.2 mm',\n",
       " '16.5 mm']"
      ]
     },
     "execution_count": 4,
     "metadata": {},
     "output_type": "execute_result"
    }
   ],
   "source": [
    "import math\n",
    "li_res = []\n",
    "for i in li:\n",
    "    li_res.append({'_id':math.random(),'Thickness':i.split('')[0]})"
   ]
  },
  {
   "cell_type": "code",
   "execution_count": null,
   "id": "332bb875",
   "metadata": {},
   "outputs": [],
   "source": []
  }
 ],
 "metadata": {
  "kernelspec": {
   "display_name": "Python 3 (ipykernel)",
   "language": "python",
   "name": "python3"
  },
  "language_info": {
   "codemirror_mode": {
    "name": "ipython",
    "version": 3
   },
   "file_extension": ".py",
   "mimetype": "text/x-python",
   "name": "python",
   "nbconvert_exporter": "python",
   "pygments_lexer": "ipython3",
   "version": "3.10.11"
  }
 },
 "nbformat": 4,
 "nbformat_minor": 5
}
